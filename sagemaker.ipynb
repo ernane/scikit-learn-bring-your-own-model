{
 "cells": [
  {
   "cell_type": "markdown",
   "id": "2985be18-81e0-48d0-92a5-eca670ee92ee",
   "metadata": {
    "tags": []
   },
   "source": [
    "# Setup"
   ]
  },
  {
   "cell_type": "code",
   "execution_count": null,
   "id": "2bf12ea8-c1b7-42fc-9b42-784bc4867ff8",
   "metadata": {
    "tags": []
   },
   "outputs": [],
   "source": [
    "!pip install -U pip watermark -q --root-user-action=ignore"
   ]
  },
  {
   "cell_type": "markdown",
   "id": "bc56c619-0d32-4398-9371-21eda7b0d228",
   "metadata": {},
   "source": [
    "## Imports"
   ]
  },
  {
   "cell_type": "code",
   "execution_count": null,
   "id": "7881f352-afc1-4732-b3a4-3cd32032a910",
   "metadata": {
    "tags": []
   },
   "outputs": [],
   "source": [
    "import base64\n",
    "import json\n",
    "import os\n",
    "import time\n",
    "from io import BytesIO\n",
    "\n",
    "import boto3\n",
    "import numpy as np\n",
    "import pandas as pd\n",
    "import sagemaker\n",
    "from sagemaker.model_monitor import DataCaptureConfig\n",
    "from sagemaker.pipeline import PipelineModel\n",
    "from sagemaker.s3 import S3Downloader\n",
    "from sagemaker.serverless.serverless_inference_config import ServerlessInferenceConfig\n",
    "from sagemaker.sklearn.model import SKLearnModel\n",
    "from sagemaker.transformer import Transformer\n",
    "from sklearn.datasets import fetch_california_housing\n",
    "from sklearn.model_selection import train_test_split"
   ]
  },
  {
   "cell_type": "markdown",
   "id": "2e97c2eb-5524-42e6-8954-8ee71033daca",
   "metadata": {},
   "source": [
    "## Versions"
   ]
  },
  {
   "cell_type": "code",
   "execution_count": null,
   "id": "eaa71aa7-6dcb-45e1-a0df-ae9c3f8e91b6",
   "metadata": {
    "tags": []
   },
   "outputs": [],
   "source": [
    "%load_ext watermark\n",
    "%watermark --iversions"
   ]
  },
  {
   "cell_type": "markdown",
   "id": "2e8e5d41-964d-4cd6-9b30-c935fe2391b7",
   "metadata": {},
   "source": [
    "## Parameters"
   ]
  },
  {
   "cell_type": "code",
   "execution_count": null,
   "id": "e589c364-c149-4429-b8b5-a93a8c8c8e48",
   "metadata": {
    "tags": []
   },
   "outputs": [],
   "source": [
    "bucket = \"datarocket-stg-sagemaker\"\n",
    "prefix = \"california-housing\"\n",
    "\n",
    "\n",
    "sm_region = boto3.Session().region_name\n",
    "sm_role = sagemaker.get_execution_role()\n",
    "sm_session = sagemaker.Session(default_bucket=bucket)\n",
    "sm_client = boto3.client(\"sagemaker\", sm_region)\n",
    "runtime = boto3.client(\"sagemaker-runtime\")\n",
    "\n",
    "\n",
    "data = fetch_california_housing()\n",
    "X_train, X_test, y_train, y_test = train_test_split(\n",
    "    data.data, data.target, test_size=0.25, random_state=42\n",
    ")\n",
    "testX = pd.DataFrame(X_test, columns=data.feature_names)\n",
    "\n",
    "\n",
    "model_file_name = \"model.joblib\"\n",
    "model_name = \"california-housing\"\n",
    "serverless_inference_config = ServerlessInferenceConfig(memory_size_in_mb=2048, max_concurrency=10)\n",
    "endpoint_name_serverless = \"california-housing-serverless\"\n",
    "endpoint_name_realtime = \"california-housing-realtime\"\n",
    "data_capture_config = DataCaptureConfig(\n",
    "    enable_capture=True,\n",
    "    sampling_percentage=100,\n",
    "    destination_s3_uri=f\"s3://{bucket}/{prefix}/data_capture\",\n",
    ")"
   ]
  },
  {
   "cell_type": "markdown",
   "id": "187a11fe-a181-4ac6-99a1-be4a8429101f",
   "metadata": {},
   "source": [
    "## Data"
   ]
  },
  {
   "cell_type": "code",
   "execution_count": null,
   "id": "30fd5bed-5806-4502-9b4f-dc24eaded607",
   "metadata": {
    "tags": []
   },
   "outputs": [],
   "source": [
    "testX.shape"
   ]
  },
  {
   "cell_type": "code",
   "execution_count": null,
   "id": "d39d7a09-b298-4786-b0af-4832e68b7449",
   "metadata": {
    "tags": []
   },
   "outputs": [],
   "source": [
    "testX.head()"
   ]
  },
  {
   "cell_type": "code",
   "execution_count": null,
   "id": "be237648-b617-46c8-813d-9c20518f3567",
   "metadata": {
    "tags": []
   },
   "outputs": [],
   "source": [
    "testX[data.feature_names].to_csv(\"./data/california_housing.csv\", header=False, index=False)\n",
    "\n",
    "sm_session.upload_data(\n",
    "    path=\"./data/california_housing.csv\", bucket=bucket, key_prefix=f\"{prefix}/batch_data\"\n",
    ")\n",
    "\n",
    "batch_data = f\"s3://{bucket}/{prefix}/batch_data/\"\n",
    "batch_data"
   ]
  },
  {
   "cell_type": "markdown",
   "id": "e6e1a088-4782-4f9e-bc0a-1cf068bc3cd9",
   "metadata": {},
   "source": [
    "## Model Data"
   ]
  },
  {
   "cell_type": "code",
   "execution_count": null,
   "id": "bbe5676d-8068-4759-9ada-80c8578a0a12",
   "metadata": {
    "tags": []
   },
   "outputs": [],
   "source": [
    "!tar czvf model.tar.gz $model_file_name"
   ]
  },
  {
   "cell_type": "code",
   "execution_count": null,
   "id": "6cf054ce-1ba7-4257-bcc6-35328d992309",
   "metadata": {
    "tags": []
   },
   "outputs": [],
   "source": [
    "fObj = open(\"model.tar.gz\", \"rb\")\n",
    "key = os.path.join(prefix, \"model.tar.gz\")\n",
    "boto3.Session().resource(\"s3\").Bucket(bucket).Object(key).upload_fileobj(fObj)"
   ]
  },
  {
   "cell_type": "code",
   "execution_count": null,
   "id": "18395b31-29fe-4932-9b84-3fb34b271db0",
   "metadata": {
    "tags": []
   },
   "outputs": [],
   "source": [
    "model_data = \"s3://{}/{}\".format(bucket, key)\n",
    "model_data"
   ]
  },
  {
   "cell_type": "markdown",
   "id": "1ca55db4-e28b-4274-91b9-3a5f321fc479",
   "metadata": {},
   "source": [
    "## Model Code"
   ]
  },
  {
   "cell_type": "code",
   "execution_count": null,
   "id": "55e43342-8d41-4169-898f-b23f5b7f2e26",
   "metadata": {
    "tags": []
   },
   "outputs": [],
   "source": [
    "!pygmentize ./code/inference.py"
   ]
  },
  {
   "cell_type": "code",
   "execution_count": null,
   "id": "c7da1e94-cc05-4de7-93f2-7eb7077086ba",
   "metadata": {
    "tags": []
   },
   "outputs": [],
   "source": [
    "!pygmentize ./code/requirements.txt"
   ]
  },
  {
   "cell_type": "markdown",
   "id": "9992f2e3-6de4-492a-87b3-3fca62743ea7",
   "metadata": {},
   "source": [
    "# SageMaker"
   ]
  },
  {
   "cell_type": "markdown",
   "id": "12c3ea54-7223-4ba3-9a84-ee0428b89c98",
   "metadata": {
    "tags": []
   },
   "source": [
    "## SKLearnModel"
   ]
  },
  {
   "cell_type": "code",
   "execution_count": null,
   "id": "56a58123-7d24-4110-b262-9d6213b64719",
   "metadata": {
    "tags": []
   },
   "outputs": [],
   "source": [
    "# https://sagemaker.readthedocs.io/en/stable/frameworks/sklearn/sagemaker.sklearn.html#scikit-learn-model\n",
    "\n",
    "model = SKLearnModel(\n",
    "    name=model_name,\n",
    "    role=sm_role,\n",
    "    model_data=model_data,\n",
    "    framework_version=\"1.0-1\",\n",
    "    py_version=\"py3\",\n",
    "    source_dir=\"code\",\n",
    "    entry_point=\"inference.py\",\n",
    "    sagemaker_session=sm_session,\n",
    ")"
   ]
  },
  {
   "cell_type": "markdown",
   "id": "7ea485c9-fbec-4629-a594-826e19b26054",
   "metadata": {
    "tags": []
   },
   "source": [
    "## SageMaker Model"
   ]
  },
  {
   "cell_type": "code",
   "execution_count": null,
   "id": "86abb22b-fd3d-4f04-8017-7e06034e805e",
   "metadata": {
    "tags": []
   },
   "outputs": [],
   "source": [
    "model.create()"
   ]
  },
  {
   "cell_type": "markdown",
   "id": "fc342945-4d1d-45cb-8a90-9122be2f983c",
   "metadata": {},
   "source": [
    "## Model Registry"
   ]
  },
  {
   "cell_type": "code",
   "execution_count": null,
   "id": "256c1f95-7516-471d-9c51-8cdf6c391245",
   "metadata": {
    "tags": []
   },
   "outputs": [],
   "source": [
    "register = model.register(\n",
    "    content_types=[\"text/csv\"],\n",
    "    response_types=[\"text/csv\"],\n",
    "    transform_instances=[\"ml.m5.large\", \"ml.m5.xlarge\"],\n",
    "    model_package_group_name=model_name,\n",
    "    approval_status=\"Approved\",\n",
    "    description=\"My sample California housing model package group\"\n",
    "    # model_metrics=model_metrics,\n",
    ")"
   ]
  },
  {
   "cell_type": "markdown",
   "id": "e2f288ad-f3da-4ca6-a56a-f16cd689bbb4",
   "metadata": {},
   "source": [
    "## Batch Transform"
   ]
  },
  {
   "cell_type": "code",
   "execution_count": null,
   "id": "8a329db1-1916-4755-83c0-0433cdc5ff8a",
   "metadata": {
    "tags": []
   },
   "outputs": [],
   "source": [
    "transformer = model.transformer(\n",
    "    instance_count=1,\n",
    "    instance_type=\"ml.m5.large\",\n",
    "    max_payload=10,\n",
    "    accept=\"text/csv\",\n",
    "    assemble_with=\"Line\",\n",
    "    output_path=f\"s3://{bucket}/{prefix}/result/\",\n",
    ")"
   ]
  },
  {
   "cell_type": "code",
   "execution_count": null,
   "id": "a2245f5e-22d4-49e1-af92-c604c473211f",
   "metadata": {
    "tags": []
   },
   "outputs": [],
   "source": [
    "transformer.transform(\n",
    "    batch_data,\n",
    "    join_source=\"Input\",\n",
    "    split_type=\"Line\",\n",
    "    content_type=\"text/csv\",\n",
    ")"
   ]
  },
  {
   "cell_type": "code",
   "execution_count": null,
   "id": "a1d231b1-de5c-44bf-b5f3-314a7c853ca8",
   "metadata": {
    "tags": []
   },
   "outputs": [],
   "source": [
    "# Download the output data from S3 to local file system\n",
    "batch_output = transformer.output_path\n",
    "!mkdir -p data/output\n",
    "!aws s3 cp --recursive $batch_output data/output/\n",
    "# Head to see what the batch output looks like\n",
    "!head data/output/*"
   ]
  },
  {
   "cell_type": "code",
   "execution_count": null,
   "id": "ec6b4d20-1c1a-46ad-9ad6-84453ffcbc1a",
   "metadata": {
    "tags": []
   },
   "outputs": [],
   "source": [
    "feature_names = data.feature_names.copy()\n",
    "feature_names.append(\"predict\")\n",
    "\n",
    "pd.read_csv(\n",
    "    \"data/output/california_housing.csv.out\",\n",
    "    header=None,\n",
    "    names=feature_names,\n",
    ")"
   ]
  },
  {
   "cell_type": "markdown",
   "id": "7957116f-2cdd-42d4-80a6-6b0391c16095",
   "metadata": {},
   "source": [
    "## Deploy Endpoint - Serverless"
   ]
  },
  {
   "cell_type": "code",
   "execution_count": null,
   "id": "5cbae093-30e7-4760-89b9-41e818a18196",
   "metadata": {
    "tags": []
   },
   "outputs": [],
   "source": [
    "predictor_serverless = model.deploy(\n",
    "    endpoint_name=endpoint_name_serverless,\n",
    "    serverless_inference_config=serverless_inference_config,\n",
    ")"
   ]
  },
  {
   "cell_type": "code",
   "execution_count": null,
   "id": "a15e48ea-e427-4e8c-9369-2a8478a8cc4c",
   "metadata": {
    "tags": []
   },
   "outputs": [],
   "source": [
    "predictor_realtime = model.deploy(\n",
    "    endpoint_name=endpoint_name_realtime,\n",
    "    instance_type=\"ml.t2.medium\",\n",
    "    initial_instance_count=1,\n",
    "    data_capture_config=data_capture_config,\n",
    ")"
   ]
  },
  {
   "cell_type": "markdown",
   "id": "1b169a5b-db4c-4b64-86ec-2306c994b9ed",
   "metadata": {},
   "source": [
    "## Predictor"
   ]
  },
  {
   "cell_type": "code",
   "execution_count": null,
   "id": "517dce0d-a2e0-4e4b-8cf4-acaa2d2f3730",
   "metadata": {},
   "outputs": [],
   "source": [
    "predictions_realtime = predictor_realtime.predict(testX[data.feature_names])\n",
    "predictions_serverless = predictor_realtime.predict(testX[data.feature_names])\n",
    "\n",
    "df_predictions_realtime = pd.DataFrame(predictions_realtime, columns=[\"predict\"])\n",
    "df_predictions_serverless = pd.DataFrame(predictions_serverless, columns=[\"predict\"])"
   ]
  },
  {
   "cell_type": "code",
   "execution_count": null,
   "id": "b54fdbbb-e05a-4a62-bbfa-887265ab8495",
   "metadata": {
    "tags": []
   },
   "outputs": [],
   "source": [
    "df_predictions_realtime.shape, df_predictions_serverless.shape"
   ]
  },
  {
   "cell_type": "markdown",
   "id": "8f15770b-7c19-44d1-9f67-8246ca207633",
   "metadata": {},
   "source": [
    "## Predictions Realtime"
   ]
  },
  {
   "cell_type": "code",
   "execution_count": null,
   "id": "0c7debc8-23c5-4ec7-ac16-26bb9f2d6819",
   "metadata": {
    "tags": []
   },
   "outputs": [],
   "source": [
    "df_predictions_realtime"
   ]
  },
  {
   "cell_type": "markdown",
   "id": "16c94955-14c0-49f9-bb82-02d646bcdf07",
   "metadata": {},
   "source": [
    "## Predictions Serverless"
   ]
  },
  {
   "cell_type": "code",
   "execution_count": null,
   "id": "ec93737a-c08a-4314-9468-f3962620b4f2",
   "metadata": {
    "tags": []
   },
   "outputs": [],
   "source": [
    "df_predictions_serverless"
   ]
  },
  {
   "cell_type": "markdown",
   "id": "0fc4f0da-9804-49c8-892c-b867489de80c",
   "metadata": {},
   "source": [
    "## Invoke Endpoint (application/x-npy)"
   ]
  },
  {
   "cell_type": "code",
   "execution_count": null,
   "id": "ec12ae11-3ab7-43a8-8612-575ab71d7869",
   "metadata": {
    "tags": []
   },
   "outputs": [],
   "source": [
    "# line 59 - https://github.com/aws/sagemaker-scikit-learn-container/blob/master/src/sagemaker_sklearn_container/serving.py\n",
    "# lines 191, 48 - https://github.com/aws/sagemaker-training-toolkit/blob/master/src/sagemaker_training/encoders.py\n",
    "\n",
    "# Serialise numpy ndarray as bytes\n",
    "buffer = BytesIO()\n",
    "np.save(buffer, testX[data.feature_names].values)\n",
    "\n",
    "x_npy_response_realtime = runtime.invoke_endpoint(\n",
    "    EndpointName=predictor_realtime.endpoint_name,\n",
    "    Body=buffer.getvalue(),\n",
    "    ContentType=\"application/x-npy\",\n",
    ")\n",
    "\n",
    "x_npy_response_serverless = runtime.invoke_endpoint(\n",
    "    EndpointName=predictor_serverless.endpoint_name,\n",
    "    Body=buffer.getvalue(),\n",
    "    ContentType=\"application/x-npy\",\n",
    ")\n",
    "\n",
    "x_npy_predictions_serverless = json.loads(x_npy_response_serverless[\"Body\"].read())\n",
    "x_npy_predictions_realtime = json.loads(x_npy_response_realtime[\"Body\"].read())\n",
    "\n",
    "df_x_npy_predictions_realtime = pd.DataFrame(x_npy_predictions_realtime, columns=[\"Predict\"])\n",
    "df_x_npy_predictions_serverless = pd.DataFrame(x_npy_predictions_serverless, columns=[\"Predict\"])"
   ]
  },
  {
   "cell_type": "code",
   "execution_count": null,
   "id": "6a7820c4-24bf-4049-b05f-9455aa9d6ddc",
   "metadata": {
    "tags": []
   },
   "outputs": [],
   "source": [
    "df_x_npy_predictions_serverless.shape, df_x_npy_predictions_realtime.shape"
   ]
  },
  {
   "cell_type": "markdown",
   "id": "794ccc24-0b6b-45c4-8091-ef8499417e81",
   "metadata": {},
   "source": [
    "## Invoke Endpoint (text/csv)"
   ]
  },
  {
   "cell_type": "code",
   "execution_count": null,
   "id": "0aa88b04-8a88-40ed-ae87-d3a9d1f61ab4",
   "metadata": {
    "tags": []
   },
   "outputs": [],
   "source": [
    "csv_response_realtime = runtime.invoke_endpoint(\n",
    "    EndpointName=predictor_realtime.endpoint_name,\n",
    "    Body=testX[data.feature_names].to_csv(header=False, index=False).encode(\"utf-8\"),\n",
    "    ContentType=\"text/csv\",\n",
    ")\n",
    "\n",
    "csv_response_serverless = runtime.invoke_endpoint(\n",
    "    EndpointName=predictor_serverless.endpoint_name,\n",
    "    Body=testX[data.feature_names].to_csv(header=False, index=False).encode(\"utf-8\"),\n",
    "    ContentType=\"text/csv\",\n",
    ")\n",
    "\n",
    "csv_predictions_serverless = json.loads(csv_response_serverless[\"Body\"].read())\n",
    "csv_predictions_realtime = json.loads(csv_response_realtime[\"Body\"].read())\n",
    "\n",
    "df_csv_predictions_realtime = pd.DataFrame(csv_predictions_realtime, columns=[\"Predict\"])\n",
    "df_csv_predictions_serverless = pd.DataFrame(csv_predictions_serverless, columns=[\"Predict\"])"
   ]
  },
  {
   "cell_type": "code",
   "execution_count": null,
   "id": "f9092b4b-652b-4661-9aaf-a5d8c503fb1b",
   "metadata": {
    "tags": []
   },
   "outputs": [],
   "source": [
    "df_csv_predictions_realtime.shape, df_csv_predictions_serverless.shape"
   ]
  },
  {
   "cell_type": "markdown",
   "id": "112872d0-5afd-4ede-9099-a3bc74160301",
   "metadata": {},
   "source": [
    "## Capture realtime"
   ]
  },
  {
   "cell_type": "code",
   "execution_count": null,
   "id": "03c1281a-c853-47ad-94fb-b25afff1592f",
   "metadata": {
    "tags": []
   },
   "outputs": [],
   "source": [
    "# https://sagemaker.readthedocs.io/en/stable/amazon_sagemaker_model_monitoring.html\n",
    "# https://github.com/aws/amazon-sagemaker-examples/blob/main/aws_sagemaker_studio/getting_started/xgboost_customer_churn_studio.ipynb\n",
    "# https://github.com/aws/amazon-sagemaker-examples/tree/main/sagemaker_model_monitor/model_monitor_batch_transform\n",
    "\n",
    "for _ in range(20):  # wait up to a minute to see captures in S3\n",
    "    capture_files = S3Downloader.list(f\"s3://{bucket}/{prefix}/data_capture\")\n",
    "    if capture_files:\n",
    "        break\n",
    "    time.sleep(5)\n",
    "\n",
    "print(\"Found Data Capture Files:\")\n",
    "print(capture_files)"
   ]
  },
  {
   "cell_type": "code",
   "execution_count": null,
   "id": "16c67801-21a1-4680-b671-2110e26a6ccb",
   "metadata": {
    "tags": []
   },
   "outputs": [],
   "source": [
    "capture_file = S3Downloader.read_file(capture_files[-1])"
   ]
  },
  {
   "cell_type": "code",
   "execution_count": null,
   "id": "6fdc9b0c-602b-4ed2-a116-8fa0c3d00af6",
   "metadata": {
    "tags": []
   },
   "outputs": [],
   "source": [
    "print(json.dumps(json.loads(capture_file.split(\"\\n\")[0]), indent=2)[:1000])"
   ]
  },
  {
   "cell_type": "markdown",
   "id": "98740003-3f31-4d1f-b9fd-ee2b0622faec",
   "metadata": {},
   "source": [
    "## Delete Resources"
   ]
  },
  {
   "cell_type": "code",
   "execution_count": null,
   "id": "cbd7897c-3c60-4a85-a013-127ad902ab7f",
   "metadata": {
    "tags": []
   },
   "outputs": [],
   "source": [
    "def empty_and_delete_model_package(sagemaker_client, mpg_name):\n",
    "    mpg = sagemaker_client.list_model_packages(\n",
    "        ModelPackageGroupName=mpg_name,\n",
    "    )\n",
    "\n",
    "    # Delete model packages if Group not empty\n",
    "    model_packages = mpg.get(\"ModelPackageSummaryList\")\n",
    "    if model_packages:\n",
    "        for mp in model_packages:\n",
    "            sagemaker_client.delete_model_package(ModelPackageName=mp[\"ModelPackageArn\"])\n",
    "            time.sleep(1)\n",
    "\n",
    "    # Delete model package group\n",
    "    sagemaker_client.delete_model_package_group(ModelPackageGroupName=mpg_name)\n",
    "\n",
    "\n",
    "model.delete_model()\n",
    "predictor_realtime.delete_endpoint(delete_endpoint_config=True)\n",
    "predictor_serverless.delete_endpoint(delete_endpoint_config=True)\n",
    "empty_and_delete_model_package(sm_client, model_name)"
   ]
  }
 ],
 "metadata": {
  "forced_instance_type": "ml.t3.medium",
  "forced_lcc_arn": "",
  "instance_type": "ml.t3.medium",
  "kernelspec": {
   "display_name": "Python 3 (Data Science)",
   "language": "python",
   "name": "python3__SAGEMAKER_INTERNAL__arn:aws:sagemaker:us-east-1:081325390199:image/datascience-1.0"
  },
  "language_info": {
   "codemirror_mode": {
    "name": "ipython",
    "version": 3
   },
   "file_extension": ".py",
   "mimetype": "text/x-python",
   "name": "python",
   "nbconvert_exporter": "python",
   "pygments_lexer": "ipython3",
   "version": "3.7.10"
  }
 },
 "nbformat": 4,
 "nbformat_minor": 5
}
