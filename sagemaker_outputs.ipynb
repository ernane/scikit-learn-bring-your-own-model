{
 "cells": [
  {
   "cell_type": "markdown",
   "id": "2985be18-81e0-48d0-92a5-eca670ee92ee",
   "metadata": {
    "tags": []
   },
   "source": [
    "# Setup"
   ]
  },
  {
   "cell_type": "code",
   "execution_count": 22,
   "id": "2bf12ea8-c1b7-42fc-9b42-784bc4867ff8",
   "metadata": {
    "tags": []
   },
   "outputs": [
    {
     "name": "stdout",
     "output_type": "stream",
     "text": [
      "Keyring is skipped due to an exception: 'keyring.backends'\n"
     ]
    }
   ],
   "source": [
    "!pip install -U pip watermark -q --root-user-action=ignore"
   ]
  },
  {
   "cell_type": "markdown",
   "id": "bc56c619-0d32-4398-9371-21eda7b0d228",
   "metadata": {},
   "source": [
    "## Imports"
   ]
  },
  {
   "cell_type": "code",
   "execution_count": 4,
   "id": "7881f352-afc1-4732-b3a4-3cd32032a910",
   "metadata": {
    "tags": []
   },
   "outputs": [],
   "source": [
    "import base64\n",
    "import json\n",
    "import os\n",
    "import time\n",
    "from io import BytesIO\n",
    "\n",
    "import boto3\n",
    "import numpy as np\n",
    "import pandas as pd\n",
    "import sagemaker\n",
    "from sagemaker.model_monitor import (\n",
    "    CronExpressionGenerator,\n",
    "    DataCaptureConfig,\n",
    "    DatasetFormat,\n",
    "    DefaultModelMonitor,\n",
    ")\n",
    "from sagemaker.pipeline import PipelineModel\n",
    "from sagemaker.s3 import S3Downloader\n",
    "from sagemaker.serverless.serverless_inference_config import ServerlessInferenceConfig\n",
    "from sagemaker.sklearn.model import SKLearnModel\n",
    "from sagemaker.transformer import Transformer\n",
    "from sklearn.datasets import fetch_california_housing\n",
    "from sklearn.model_selection import train_test_split"
   ]
  },
  {
   "cell_type": "markdown",
   "id": "2e97c2eb-5524-42e6-8954-8ee71033daca",
   "metadata": {},
   "source": [
    "## Versions"
   ]
  },
  {
   "cell_type": "code",
   "execution_count": 3,
   "id": "eaa71aa7-6dcb-45e1-a0df-ae9c3f8e91b6",
   "metadata": {
    "tags": []
   },
   "outputs": [
    {
     "name": "stdout",
     "output_type": "stream",
     "text": [
      "json     : 2.0.9\n",
      "sagemaker: 2.116.0\n",
      "pandas   : 1.3.5\n",
      "numpy    : 1.18.1\n",
      "boto3    : 1.26.8\n",
      "\n"
     ]
    }
   ],
   "source": [
    "%load_ext watermark\n",
    "%watermark --iversions"
   ]
  },
  {
   "cell_type": "markdown",
   "id": "2e8e5d41-964d-4cd6-9b30-c935fe2391b7",
   "metadata": {},
   "source": [
    "## Parameters"
   ]
  },
  {
   "cell_type": "code",
   "execution_count": 6,
   "id": "e589c364-c149-4429-b8b5-a93a8c8c8e48",
   "metadata": {
    "tags": []
   },
   "outputs": [],
   "source": [
    "bucket = \"datarocket-stg-sagemaker\"\n",
    "prefix = \"california-housing\"\n",
    "\n",
    "\n",
    "sm_region = boto3.Session().region_name\n",
    "sm_role = sagemaker.get_execution_role()\n",
    "sm_session = sagemaker.Session(default_bucket=bucket)\n",
    "sm_client = boto3.client(\"sagemaker\", sm_region)\n",
    "runtime = boto3.client(\"sagemaker-runtime\")\n",
    "\n",
    "\n",
    "data = fetch_california_housing()\n",
    "X_train, X_test, y_train, y_test = train_test_split(\n",
    "    data.data, data.target, test_size=0.25, random_state=42\n",
    ")\n",
    "testX = pd.DataFrame(X_test, columns=data.feature_names)\n",
    "\n",
    "\n",
    "model_file_name = \"model.joblib\"\n",
    "model_name = \"california-housing\"\n",
    "serverless_inference_config = ServerlessInferenceConfig(memory_size_in_mb=2048, max_concurrency=10)\n",
    "endpoint_name_serverless = \"california-housing-serverless\"\n",
    "endpoint_name_realtime = \"california-housing-realtime\"\n",
    "data_capture_config = DataCaptureConfig(\n",
    "    enable_capture=True,\n",
    "    sampling_percentage=100,\n",
    "    destination_s3_uri=f\"s3://{bucket}/{prefix}/data_capture\",\n",
    ")"
   ]
  },
  {
   "cell_type": "markdown",
   "id": "187a11fe-a181-4ac6-99a1-be4a8429101f",
   "metadata": {},
   "source": [
    "## Data"
   ]
  },
  {
   "cell_type": "code",
   "execution_count": 5,
   "id": "30fd5bed-5806-4502-9b4f-dc24eaded607",
   "metadata": {
    "tags": []
   },
   "outputs": [
    {
     "data": {
      "text/plain": [
       "(5160, 8)"
      ]
     },
     "execution_count": 5,
     "metadata": {},
     "output_type": "execute_result"
    }
   ],
   "source": [
    "testX.shape"
   ]
  },
  {
   "cell_type": "code",
   "execution_count": 6,
   "id": "d39d7a09-b298-4786-b0af-4832e68b7449",
   "metadata": {
    "tags": []
   },
   "outputs": [
    {
     "data": {
      "text/html": [
       "<div>\n",
       "<style scoped>\n",
       "    .dataframe tbody tr th:only-of-type {\n",
       "        vertical-align: middle;\n",
       "    }\n",
       "\n",
       "    .dataframe tbody tr th {\n",
       "        vertical-align: top;\n",
       "    }\n",
       "\n",
       "    .dataframe thead th {\n",
       "        text-align: right;\n",
       "    }\n",
       "</style>\n",
       "<table border=\"1\" class=\"dataframe\">\n",
       "  <thead>\n",
       "    <tr style=\"text-align: right;\">\n",
       "      <th></th>\n",
       "      <th>MedInc</th>\n",
       "      <th>HouseAge</th>\n",
       "      <th>AveRooms</th>\n",
       "      <th>AveBedrms</th>\n",
       "      <th>Population</th>\n",
       "      <th>AveOccup</th>\n",
       "      <th>Latitude</th>\n",
       "      <th>Longitude</th>\n",
       "    </tr>\n",
       "  </thead>\n",
       "  <tbody>\n",
       "    <tr>\n",
       "      <th>0</th>\n",
       "      <td>1.6812</td>\n",
       "      <td>25.0</td>\n",
       "      <td>4.192201</td>\n",
       "      <td>1.022284</td>\n",
       "      <td>1392.0</td>\n",
       "      <td>3.877437</td>\n",
       "      <td>36.06</td>\n",
       "      <td>-119.01</td>\n",
       "    </tr>\n",
       "    <tr>\n",
       "      <th>1</th>\n",
       "      <td>2.5313</td>\n",
       "      <td>30.0</td>\n",
       "      <td>5.039384</td>\n",
       "      <td>1.193493</td>\n",
       "      <td>1565.0</td>\n",
       "      <td>2.679795</td>\n",
       "      <td>35.14</td>\n",
       "      <td>-119.46</td>\n",
       "    </tr>\n",
       "    <tr>\n",
       "      <th>2</th>\n",
       "      <td>3.4801</td>\n",
       "      <td>52.0</td>\n",
       "      <td>3.977155</td>\n",
       "      <td>1.185877</td>\n",
       "      <td>1310.0</td>\n",
       "      <td>1.360332</td>\n",
       "      <td>37.80</td>\n",
       "      <td>-122.44</td>\n",
       "    </tr>\n",
       "    <tr>\n",
       "      <th>3</th>\n",
       "      <td>5.7376</td>\n",
       "      <td>17.0</td>\n",
       "      <td>6.163636</td>\n",
       "      <td>1.020202</td>\n",
       "      <td>1705.0</td>\n",
       "      <td>3.444444</td>\n",
       "      <td>34.28</td>\n",
       "      <td>-118.72</td>\n",
       "    </tr>\n",
       "    <tr>\n",
       "      <th>4</th>\n",
       "      <td>3.7250</td>\n",
       "      <td>34.0</td>\n",
       "      <td>5.492991</td>\n",
       "      <td>1.028037</td>\n",
       "      <td>1063.0</td>\n",
       "      <td>2.483645</td>\n",
       "      <td>36.62</td>\n",
       "      <td>-121.93</td>\n",
       "    </tr>\n",
       "  </tbody>\n",
       "</table>\n",
       "</div>"
      ],
      "text/plain": [
       "   MedInc  HouseAge  AveRooms  AveBedrms  Population  AveOccup  Latitude  \\\n",
       "0  1.6812      25.0  4.192201   1.022284      1392.0  3.877437     36.06   \n",
       "1  2.5313      30.0  5.039384   1.193493      1565.0  2.679795     35.14   \n",
       "2  3.4801      52.0  3.977155   1.185877      1310.0  1.360332     37.80   \n",
       "3  5.7376      17.0  6.163636   1.020202      1705.0  3.444444     34.28   \n",
       "4  3.7250      34.0  5.492991   1.028037      1063.0  2.483645     36.62   \n",
       "\n",
       "   Longitude  \n",
       "0    -119.01  \n",
       "1    -119.46  \n",
       "2    -122.44  \n",
       "3    -118.72  \n",
       "4    -121.93  "
      ]
     },
     "execution_count": 6,
     "metadata": {},
     "output_type": "execute_result"
    }
   ],
   "source": [
    "testX.head()"
   ]
  },
  {
   "cell_type": "code",
   "execution_count": 7,
   "id": "be237648-b617-46c8-813d-9c20518f3567",
   "metadata": {
    "tags": []
   },
   "outputs": [
    {
     "data": {
      "text/plain": [
       "'s3://datarocket-stg-sagemaker/california-housing/batch_data/'"
      ]
     },
     "execution_count": 7,
     "metadata": {},
     "output_type": "execute_result"
    }
   ],
   "source": [
    "testX[data.feature_names].to_csv(\"./data/california_housing.csv\", header=False, index=False)\n",
    "testX[data.feature_names].to_csv(\"./data/california_housing_with_header.csv\", index=False)\n",
    "\n",
    "sm_session.upload_data(\n",
    "    path=\"./data/california_housing.csv\", bucket=bucket, key_prefix=f\"{prefix}/batch_data\"\n",
    ")\n",
    "\n",
    "batch_data = f\"s3://{bucket}/{prefix}/batch_data/\"\n",
    "batch_data"
   ]
  },
  {
   "cell_type": "markdown",
   "id": "e6e1a088-4782-4f9e-bc0a-1cf068bc3cd9",
   "metadata": {},
   "source": [
    "## Model Data"
   ]
  },
  {
   "cell_type": "code",
   "execution_count": 8,
   "id": "bbe5676d-8068-4759-9ada-80c8578a0a12",
   "metadata": {
    "tags": []
   },
   "outputs": [
    {
     "name": "stdout",
     "output_type": "stream",
     "text": [
      "model.joblib\n"
     ]
    }
   ],
   "source": [
    "!tar czvf model.tar.gz $model_file_name"
   ]
  },
  {
   "cell_type": "code",
   "execution_count": 9,
   "id": "6cf054ce-1ba7-4257-bcc6-35328d992309",
   "metadata": {
    "tags": []
   },
   "outputs": [],
   "source": [
    "fObj = open(\"model.tar.gz\", \"rb\")\n",
    "key = os.path.join(prefix, \"model.tar.gz\")\n",
    "boto3.Session().resource(\"s3\").Bucket(bucket).Object(key).upload_fileobj(fObj)"
   ]
  },
  {
   "cell_type": "code",
   "execution_count": 10,
   "id": "18395b31-29fe-4932-9b84-3fb34b271db0",
   "metadata": {
    "tags": []
   },
   "outputs": [
    {
     "data": {
      "text/plain": [
       "'s3://datarocket-stg-sagemaker/california-housing/model.tar.gz'"
      ]
     },
     "execution_count": 10,
     "metadata": {},
     "output_type": "execute_result"
    }
   ],
   "source": [
    "model_data = \"s3://{}/{}\".format(bucket, key)\n",
    "model_data"
   ]
  },
  {
   "cell_type": "markdown",
   "id": "1ca55db4-e28b-4274-91b9-3a5f321fc479",
   "metadata": {},
   "source": [
    "## Model Code"
   ]
  },
  {
   "cell_type": "code",
   "execution_count": 11,
   "id": "55e43342-8d41-4169-898f-b23f5b7f2e26",
   "metadata": {
    "tags": []
   },
   "outputs": [
    {
     "name": "stdout",
     "output_type": "stream",
     "text": [
      "\u001b[34mimport\u001b[39;49;00m \u001b[04m\u001b[36mos\u001b[39;49;00m\n",
      "\n",
      "\u001b[34mimport\u001b[39;49;00m \u001b[04m\u001b[36mjoblib\u001b[39;49;00m\n",
      "\n",
      "\u001b[33m\"\"\"\u001b[39;49;00m\n",
      "\u001b[33m    https://sagemaker.readthedocs.io/en/stable/frameworks/sklearn/using_sklearn.html\u001b[39;49;00m\n",
      "\u001b[33m\u001b[39;49;00m\n",
      "\u001b[33m    input_fn: Takes request data and deserializes the data into an object for prediction.\u001b[39;49;00m\n",
      "\u001b[33m    predict_fn: Takes the deserialized request object and performs inference against the loaded model.\u001b[39;49;00m\n",
      "\u001b[33m    output_fn: Takes the result of prediction and serializes this according to the response content type.\u001b[39;49;00m\n",
      "\u001b[33m\"\"\"\u001b[39;49;00m\n",
      "\n",
      "\n",
      "\u001b[34mdef\u001b[39;49;00m \u001b[32mpredict_fn\u001b[39;49;00m(input_object, model):\n",
      "    \u001b[33m\"\"\"\u001b[39;49;00m\n",
      "\u001b[33m    \"\"\"\u001b[39;49;00m\n",
      "    \u001b[36mprint\u001b[39;49;00m(\u001b[33m\"\u001b[39;49;00m\u001b[33mcalling model\u001b[39;49;00m\u001b[33m\"\u001b[39;49;00m)\n",
      "    predictions = model.predict(input_object)\n",
      "    \u001b[34mreturn\u001b[39;49;00m predictions\n",
      "\n",
      "\n",
      "\u001b[34mdef\u001b[39;49;00m \u001b[32mmodel_fn\u001b[39;49;00m(model_dir):\n",
      "    \u001b[33m\"\"\"\u001b[39;49;00m\n",
      "\u001b[33m    \"\"\"\u001b[39;49;00m\n",
      "    \u001b[36mprint\u001b[39;49;00m(\u001b[33m\"\u001b[39;49;00m\u001b[33mloading model.joblib from: \u001b[39;49;00m\u001b[33m{}\u001b[39;49;00m\u001b[33m\"\u001b[39;49;00m.format(model_dir))\n",
      "    loaded_model = joblib.load(os.path.join(model_dir, \u001b[33m\"\u001b[39;49;00m\u001b[33mmodel.joblib\u001b[39;49;00m\u001b[33m\"\u001b[39;49;00m))\n",
      "    \u001b[34mreturn\u001b[39;49;00m loaded_model\n"
     ]
    }
   ],
   "source": [
    "!pygmentize ./code/inference.py"
   ]
  },
  {
   "cell_type": "code",
   "execution_count": 12,
   "id": "c7da1e94-cc05-4de7-93f2-7eb7077086ba",
   "metadata": {
    "tags": []
   },
   "outputs": [
    {
     "name": "stdout",
     "output_type": "stream",
     "text": [
      "boto3==1.24.17\n",
      "botocore==1.27.18\n",
      "requests==2.28.1\n",
      "nltk==3.7\n"
     ]
    }
   ],
   "source": [
    "!pygmentize ./code/requirements.txt"
   ]
  },
  {
   "cell_type": "markdown",
   "id": "9992f2e3-6de4-492a-87b3-3fca62743ea7",
   "metadata": {},
   "source": [
    "# SageMaker"
   ]
  },
  {
   "cell_type": "markdown",
   "id": "12c3ea54-7223-4ba3-9a84-ee0428b89c98",
   "metadata": {
    "tags": []
   },
   "source": [
    "## SKLearnModel"
   ]
  },
  {
   "cell_type": "code",
   "execution_count": 13,
   "id": "56a58123-7d24-4110-b262-9d6213b64719",
   "metadata": {
    "tags": []
   },
   "outputs": [],
   "source": [
    "# https://sagemaker.readthedocs.io/en/stable/frameworks/sklearn/sagemaker.sklearn.html#scikit-learn-model\n",
    "\n",
    "model = SKLearnModel(\n",
    "    name=model_name,\n",
    "    role=sm_role,\n",
    "    model_data=model_data,\n",
    "    framework_version=\"1.0-1\",\n",
    "    py_version=\"py3\",\n",
    "    source_dir=\"code\",\n",
    "    entry_point=\"inference.py\",\n",
    "    sagemaker_session=sm_session,\n",
    ")"
   ]
  },
  {
   "cell_type": "markdown",
   "id": "7ea485c9-fbec-4629-a594-826e19b26054",
   "metadata": {
    "tags": []
   },
   "source": [
    "## SageMaker Model"
   ]
  },
  {
   "cell_type": "code",
   "execution_count": 14,
   "id": "86abb22b-fd3d-4f04-8017-7e06034e805e",
   "metadata": {
    "tags": []
   },
   "outputs": [],
   "source": [
    "model.create()"
   ]
  },
  {
   "cell_type": "markdown",
   "id": "fc342945-4d1d-45cb-8a90-9122be2f983c",
   "metadata": {},
   "source": [
    "## Model Registry"
   ]
  },
  {
   "cell_type": "code",
   "execution_count": 15,
   "id": "256c1f95-7516-471d-9c51-8cdf6c391245",
   "metadata": {
    "tags": []
   },
   "outputs": [],
   "source": [
    "register = model.register(\n",
    "    content_types=[\"text/csv\"],\n",
    "    response_types=[\"text/csv\"],\n",
    "    transform_instances=[\"ml.m5.large\", \"ml.m5.xlarge\"],\n",
    "    model_package_group_name=model_name,\n",
    "    approval_status=\"Approved\",\n",
    "    description=\"My sample California housing model package group\"\n",
    "    # model_metrics=model_metrics,\n",
    ")"
   ]
  },
  {
   "cell_type": "markdown",
   "id": "e2f288ad-f3da-4ca6-a56a-f16cd689bbb4",
   "metadata": {},
   "source": [
    "## Batch Transform"
   ]
  },
  {
   "cell_type": "code",
   "execution_count": 16,
   "id": "8a329db1-1916-4755-83c0-0433cdc5ff8a",
   "metadata": {
    "tags": []
   },
   "outputs": [
    {
     "name": "stderr",
     "output_type": "stream",
     "text": [
      "Using already existing model: california-housing\n"
     ]
    }
   ],
   "source": [
    "transformer = model.transformer(\n",
    "    instance_count=1,\n",
    "    instance_type=\"ml.m5.large\",\n",
    "    max_payload=10,\n",
    "    accept=\"text/csv\",\n",
    "    assemble_with=\"Line\",\n",
    "    output_path=f\"s3://{bucket}/{prefix}/result/\",\n",
    ")"
   ]
  },
  {
   "cell_type": "code",
   "execution_count": 17,
   "id": "a2245f5e-22d4-49e1-af92-c604c473211f",
   "metadata": {
    "tags": []
   },
   "outputs": [
    {
     "name": "stdout",
     "output_type": "stream",
     "text": [
      "...........................\n",
      "\u001b[34m2022-12-06 02:23:42,816 INFO - sagemaker-containers - No GPUs detected (normal if no gpus installed)\u001b[0m\n",
      "\u001b[34m2022-12-06 02:23:42,819 INFO - sagemaker-containers - No GPUs detected (normal if no gpus installed)\u001b[0m\n",
      "\u001b[34m2022-12-06 02:23:42,820 INFO - sagemaker-containers - nginx config: \u001b[0m\n",
      "\u001b[34mworker_processes auto;\u001b[0m\n",
      "\u001b[34mdaemon off;\u001b[0m\n",
      "\u001b[34mpid /tmp/nginx.pid;\u001b[0m\n",
      "\u001b[34merror_log  /dev/stderr;\u001b[0m\n",
      "\u001b[34mworker_rlimit_nofile 4096;\u001b[0m\n",
      "\u001b[34mevents {\n",
      "  worker_connections 2048;\u001b[0m\n",
      "\u001b[34m}\u001b[0m\n",
      "\u001b[34mhttp {\n",
      "  include /etc/nginx/mime.types;\n",
      "  default_type application/octet-stream;\n",
      "  access_log /dev/stdout combined;\n",
      "  upstream gunicorn {\n",
      "    server unix:/tmp/gunicorn.sock;\n",
      "  }\n",
      "  server {\n",
      "    listen 8080 deferred;\n",
      "    client_max_body_size 0;\n",
      "    keepalive_timeout 3;\n",
      "    location ~ ^/(ping|invocations|execution-parameters) {\n",
      "      proxy_set_header X-Forwarded-For $proxy_add_x_forwarded_for;\n",
      "      proxy_set_header Host $http_host;\n",
      "      proxy_redirect off;\n",
      "      proxy_read_timeout 60s;\n",
      "      proxy_pass http://gunicorn;\n",
      "    }\n",
      "    location / {\n",
      "      return 404 \"{}\";\n",
      "    }\n",
      "  }\u001b[0m\n",
      "\u001b[34m}\u001b[0m\n",
      "\u001b[34m2022-12-06 02:23:43,012 INFO - sagemaker-containers - Module inference does not provide a setup.py. \u001b[0m\n",
      "\u001b[34mGenerating setup.py\u001b[0m\n",
      "\u001b[34m2022-12-06 02:23:43,012 INFO - sagemaker-containers - Generating setup.cfg\u001b[0m\n",
      "\u001b[34m2022-12-06 02:23:43,013 INFO - sagemaker-containers - Generating MANIFEST.in\u001b[0m\n",
      "\u001b[34m2022-12-06 02:23:43,013 INFO - sagemaker-containers - Installing module with the following command:\u001b[0m\n",
      "\u001b[34m/miniconda3/bin/python3 -m pip install . -r requirements.txt\u001b[0m\n",
      "\u001b[34mProcessing /opt/ml/code\n",
      "  Preparing metadata (setup.py): started\n",
      "  Preparing metadata (setup.py): finished with status 'done'\u001b[0m\n",
      "\u001b[34mRequirement already satisfied: boto3==1.24.17 in /miniconda3/lib/python3.8/site-packages (from -r requirements.txt (line 1)) (1.24.17)\u001b[0m\n",
      "\u001b[34mRequirement already satisfied: botocore==1.27.18 in /miniconda3/lib/python3.8/site-packages (from -r requirements.txt (line 2)) (1.27.18)\u001b[0m\n",
      "\u001b[34mRequirement already satisfied: requests==2.28.1 in /miniconda3/lib/python3.8/site-packages (from -r requirements.txt (line 3)) (2.28.1)\u001b[0m\n",
      "\u001b[34mCollecting nltk==3.7\n",
      "  Downloading nltk-3.7-py3-none-any.whl (1.5 MB)\n",
      "     ━━━━━━━━━━━━━━━━━━━━━━━━━━━━━━━━━━━━━━━━ 1.5/1.5 MB 63.5 MB/s eta 0:00:00\u001b[0m\n",
      "\u001b[34mRequirement already satisfied: s3transfer<0.7.0,>=0.6.0 in /miniconda3/lib/python3.8/site-packages (from boto3==1.24.17->-r requirements.txt (line 1)) (0.6.0)\u001b[0m\n",
      "\u001b[34mRequirement already satisfied: jmespath<2.0.0,>=0.7.1 in /miniconda3/lib/python3.8/site-packages (from boto3==1.24.17->-r requirements.txt (line 1)) (1.0.1)\u001b[0m\n",
      "\u001b[34mRequirement already satisfied: python-dateutil<3.0.0,>=2.1 in /miniconda3/lib/python3.8/site-packages (from botocore==1.27.18->-r requirements.txt (line 2)) (2.8.1)\u001b[0m\n",
      "\u001b[34mRequirement already satisfied: urllib3<1.27,>=1.25.4 in /miniconda3/lib/python3.8/site-packages (from botocore==1.27.18->-r requirements.txt (line 2)) (1.26.11)\u001b[0m\n",
      "\u001b[34mRequirement already satisfied: idna<4,>=2.5 in /miniconda3/lib/python3.8/site-packages (from requests==2.28.1->-r requirements.txt (line 3)) (3.4)\u001b[0m\n",
      "\u001b[34mRequirement already satisfied: charset-normalizer<3,>=2 in /miniconda3/lib/python3.8/site-packages (from requests==2.28.1->-r requirements.txt (line 3)) (2.0.4)\u001b[0m\n",
      "\u001b[34mRequirement already satisfied: certifi>=2017.4.17 in /miniconda3/lib/python3.8/site-packages (from requests==2.28.1->-r requirements.txt (line 3)) (2022.9.24)\u001b[0m\n",
      "\u001b[34mCollecting regex>=2021.8.3\n",
      "  Downloading regex-2022.10.31-cp38-cp38-manylinux_2_17_x86_64.manylinux2014_x86_64.whl (772 kB)\n",
      "     ━━━━━━━━━━━━━━━━━━━━━━━━━━━━━━━━━━━━━━ 772.3/772.3 kB 52.5 MB/s eta 0:00:00\u001b[0m\n",
      "\u001b[34mRequirement already satisfied: tqdm in /miniconda3/lib/python3.8/site-packages (from nltk==3.7->-r requirements.txt (line 4)) (4.64.1)\u001b[0m\n",
      "\u001b[34mRequirement already satisfied: joblib in /miniconda3/lib/python3.8/site-packages (from nltk==3.7->-r requirements.txt (line 4)) (1.2.0)\u001b[0m\n",
      "\u001b[34mRequirement already satisfied: click in /miniconda3/lib/python3.8/site-packages (from nltk==3.7->-r requirements.txt (line 4)) (8.1.3)\u001b[0m\n",
      "\u001b[34mRequirement already satisfied: six>=1.5 in /miniconda3/lib/python3.8/site-packages (from python-dateutil<3.0.0,>=2.1->botocore==1.27.18->-r requirements.txt (line 2)) (1.15.0)\u001b[0m\n",
      "\u001b[34mBuilding wheels for collected packages: inference\n",
      "  Building wheel for inference (setup.py): started\u001b[0m\n",
      "\u001b[34m  Building wheel for inference (setup.py): finished with status 'done'\n",
      "  Created wheel for inference: filename=inference-1.0.0-py2.py3-none-any.whl size=4441 sha256=22d2ecb0ee120b76a538a4b146a204bddd3b348d9a85fb02c747eb2f4e2bb79a\n",
      "  Stored in directory: /home/model-server/tmp/pip-ephem-wheel-cache-acf66jdd/wheels/f3/75/57/158162e9eab7af12b5c338c279b3a81f103b89d74eeb911c00\u001b[0m\n",
      "\u001b[34mSuccessfully built inference\u001b[0m\n",
      "\u001b[34mInstalling collected packages: inference, regex, nltk\u001b[0m\n",
      "\u001b[34mSuccessfully installed inference-1.0.0 nltk-3.7 regex-2022.10.31\u001b[0m\n",
      "\u001b[34mWARNING: Running pip as the 'root' user can result in broken permissions and conflicting behaviour with the system package manager. It is recommended to use a virtual environment instead: https://pip.pypa.io/warnings/venv\u001b[0m\n",
      "\u001b[34m[notice] A new release of pip available: 22.3 -> 22.3.1\u001b[0m\n",
      "\u001b[34m[notice] To update, run: pip install --upgrade pip\u001b[0m\n",
      "\u001b[34m[2022-12-06 02:23:47 +0000] [28] [INFO] Starting gunicorn 20.0.4\u001b[0m\n",
      "\u001b[34m[2022-12-06 02:23:47 +0000] [28] [INFO] Listening at: unix:/tmp/gunicorn.sock (28)\u001b[0m\n",
      "\u001b[34m[2022-12-06 02:23:47 +0000] [28] [INFO] Using worker: gevent\u001b[0m\n",
      "\u001b[34m[2022-12-06 02:23:47 +0000] [30] [INFO] Booting worker with pid: 30\u001b[0m\n",
      "\u001b[34m[2022-12-06 02:23:47 +0000] [31] [INFO] Booting worker with pid: 31\u001b[0m\n",
      "\u001b[34m2022-12-06 02:23:51,421 INFO - sagemaker-containers - No GPUs detected (normal if no gpus installed)\u001b[0m\n",
      "\u001b[34mloading model.joblib from: /opt/ml/model\u001b[0m\n",
      "\u001b[34m/miniconda3/lib/python3.8/site-packages/sklearn/base.py:329: UserWarning: Trying to unpickle estimator DecisionTreeRegressor from version 0.23.2 when using version 1.0.2. This might lead to breaking code or invalid results. Use at your own risk. For more info please refer to:\u001b[0m\n",
      "\u001b[34mhttps://scikit-learn.org/stable/modules/model_persistence.html#security-maintainability-limitations\n",
      "  warnings.warn(\u001b[0m\n",
      "\u001b[34m/miniconda3/lib/python3.8/site-packages/sklearn/base.py:329: UserWarning: Trying to unpickle estimator RandomForestRegressor from version 0.23.2 when using version 1.0.2. This might lead to breaking code or invalid results. Use at your own risk. For more info please refer to:\u001b[0m\n",
      "\u001b[34mhttps://scikit-learn.org/stable/modules/model_persistence.html#security-maintainability-limitations\n",
      "  warnings.warn(\u001b[0m\n",
      "\u001b[34m169.254.255.130 - - [06/Dec/2022:02:23:52 +0000] \"GET /ping HTTP/1.1\" 200 0 \"-\" \"Go-http-client/1.1\"\u001b[0m\n",
      "\u001b[34m169.254.255.130 - - [06/Dec/2022:02:23:52 +0000] \"GET /execution-parameters HTTP/1.1\" 404 232 \"-\" \"Go-http-client/1.1\"\u001b[0m\n",
      "\u001b[34m2022-12-06 02:23:52,250 INFO - sagemaker-containers - No GPUs detected (normal if no gpus installed)\u001b[0m\n",
      "\u001b[34mloading model.joblib from: /opt/ml/model\u001b[0m\n",
      "\u001b[34m/miniconda3/lib/python3.8/site-packages/sklearn/base.py:329: UserWarning: Trying to unpickle estimator DecisionTreeRegressor from version 0.23.2 when using version 1.0.2. This might lead to breaking code or invalid results. Use at your own risk. For more info please refer to:\u001b[0m\n",
      "\u001b[34mhttps://scikit-learn.org/stable/modules/model_persistence.html#security-maintainability-limitations\n",
      "  warnings.warn(\u001b[0m\n",
      "\u001b[34m/miniconda3/lib/python3.8/site-packages/sklearn/base.py:329: UserWarning: Trying to unpickle estimator RandomForestRegressor from version 0.23.2 when using version 1.0.2. This might lead to breaking code or invalid results. Use at your own risk. For more info please refer to:\u001b[0m\n",
      "\u001b[34mhttps://scikit-learn.org/stable/modules/model_persistence.html#security-maintainability-limitations\n",
      "  warnings.warn(\u001b[0m\n",
      "\u001b[34mcalling model\u001b[0m\n",
      "\u001b[34m169.254.255.130 - - [06/Dec/2022:02:23:52 +0000] \"POST /invocations HTTP/1.1\" 200 96137 \"-\" \"Go-http-client/1.1\"\u001b[0m\n",
      "\u001b[32m2022-12-06T02:23:52.114:[sagemaker logs]: MaxConcurrentTransforms=1, MaxPayloadInMB=10, BatchStrategy=MULTI_RECORD\u001b[0m\n"
     ]
    }
   ],
   "source": [
    "transformer.transform(\n",
    "    batch_data,\n",
    "    join_source=\"Input\",\n",
    "    split_type=\"Line\",\n",
    "    content_type=\"text/csv\",\n",
    ")"
   ]
  },
  {
   "cell_type": "code",
   "execution_count": 18,
   "id": "a1d231b1-de5c-44bf-b5f3-314a7c853ca8",
   "metadata": {
    "tags": []
   },
   "outputs": [
    {
     "name": "stdout",
     "output_type": "stream",
     "text": [
      "download: s3://datarocket-stg-sagemaker/california-housing/result/california_housing.csv.out to data/output/california_housing.csv.out\n",
      "1.6812,25.0,4.192200557103064,1.0222841225626742,1392.0,3.8774373259052926,36.06,-119.01,0.5052255264069264\n",
      "2.5313,30.0,5.039383561643835,1.1934931506849316,1565.0,2.6797945205479454,35.14,-119.46,0.7278549527417028\n",
      "3.4801,52.0,3.977154724818276,1.185877466251298,1310.0,1.3603322949117342,37.8,-122.44,4.84144142727633\n",
      "5.7376,17.0,6.163636363636364,1.02020202020202,1705.0,3.4444444444444446,34.28,-118.72,2.630331391414141\n",
      "3.725,34.0,5.492990654205608,1.02803738317757,1063.0,2.4836448598130842,36.62,-121.93,2.3375484145021646\n",
      "4.7147,12.0,5.251482799525504,0.9750889679715302,2400.0,2.8469750889679717,34.08,-117.61,1.6975502158730171\n",
      "5.0839,36.0,6.221719457013575,1.0950226244343892,670.0,3.0316742081447963,33.89,-118.02,2.309398987518038\n",
      "3.6908,38.0,4.962825278810409,1.0483271375464684,1011.0,3.758364312267658,33.92,-118.08,1.6731999047619046\n",
      "4.8036,4.0,3.9246575342465753,1.0359589041095891,1050.0,1.797945205479452,37.39,-122.08,2.7045755227489177\n",
      "8.1132,45.0,6.87905604719764,1.0117994100294985,943.0,2.781710914454277,34.18,-118.23,4.930513784971132\n"
     ]
    }
   ],
   "source": [
    "# Download the output data from S3 to local file system\n",
    "batch_output = transformer.output_path\n",
    "!mkdir -p data/output\n",
    "!aws s3 cp --recursive $batch_output data/output/\n",
    "# Head to see what the batch output looks like\n",
    "!head data/output/*"
   ]
  },
  {
   "cell_type": "code",
   "execution_count": 19,
   "id": "ec6b4d20-1c1a-46ad-9ad6-84453ffcbc1a",
   "metadata": {
    "tags": []
   },
   "outputs": [
    {
     "data": {
      "text/html": [
       "<div>\n",
       "<style scoped>\n",
       "    .dataframe tbody tr th:only-of-type {\n",
       "        vertical-align: middle;\n",
       "    }\n",
       "\n",
       "    .dataframe tbody tr th {\n",
       "        vertical-align: top;\n",
       "    }\n",
       "\n",
       "    .dataframe thead th {\n",
       "        text-align: right;\n",
       "    }\n",
       "</style>\n",
       "<table border=\"1\" class=\"dataframe\">\n",
       "  <thead>\n",
       "    <tr style=\"text-align: right;\">\n",
       "      <th></th>\n",
       "      <th>MedInc</th>\n",
       "      <th>HouseAge</th>\n",
       "      <th>AveRooms</th>\n",
       "      <th>AveBedrms</th>\n",
       "      <th>Population</th>\n",
       "      <th>AveOccup</th>\n",
       "      <th>Latitude</th>\n",
       "      <th>Longitude</th>\n",
       "      <th>predict</th>\n",
       "    </tr>\n",
       "  </thead>\n",
       "  <tbody>\n",
       "    <tr>\n",
       "      <th>0</th>\n",
       "      <td>1.6812</td>\n",
       "      <td>25.0</td>\n",
       "      <td>4.192201</td>\n",
       "      <td>1.022284</td>\n",
       "      <td>1392.0</td>\n",
       "      <td>3.877437</td>\n",
       "      <td>36.06</td>\n",
       "      <td>-119.01</td>\n",
       "      <td>0.505226</td>\n",
       "    </tr>\n",
       "    <tr>\n",
       "      <th>1</th>\n",
       "      <td>2.5313</td>\n",
       "      <td>30.0</td>\n",
       "      <td>5.039384</td>\n",
       "      <td>1.193493</td>\n",
       "      <td>1565.0</td>\n",
       "      <td>2.679795</td>\n",
       "      <td>35.14</td>\n",
       "      <td>-119.46</td>\n",
       "      <td>0.727855</td>\n",
       "    </tr>\n",
       "    <tr>\n",
       "      <th>2</th>\n",
       "      <td>3.4801</td>\n",
       "      <td>52.0</td>\n",
       "      <td>3.977155</td>\n",
       "      <td>1.185877</td>\n",
       "      <td>1310.0</td>\n",
       "      <td>1.360332</td>\n",
       "      <td>37.80</td>\n",
       "      <td>-122.44</td>\n",
       "      <td>4.841441</td>\n",
       "    </tr>\n",
       "    <tr>\n",
       "      <th>3</th>\n",
       "      <td>5.7376</td>\n",
       "      <td>17.0</td>\n",
       "      <td>6.163636</td>\n",
       "      <td>1.020202</td>\n",
       "      <td>1705.0</td>\n",
       "      <td>3.444444</td>\n",
       "      <td>34.28</td>\n",
       "      <td>-118.72</td>\n",
       "      <td>2.630331</td>\n",
       "    </tr>\n",
       "    <tr>\n",
       "      <th>4</th>\n",
       "      <td>3.7250</td>\n",
       "      <td>34.0</td>\n",
       "      <td>5.492991</td>\n",
       "      <td>1.028037</td>\n",
       "      <td>1063.0</td>\n",
       "      <td>2.483645</td>\n",
       "      <td>36.62</td>\n",
       "      <td>-121.93</td>\n",
       "      <td>2.337548</td>\n",
       "    </tr>\n",
       "    <tr>\n",
       "      <th>...</th>\n",
       "      <td>...</td>\n",
       "      <td>...</td>\n",
       "      <td>...</td>\n",
       "      <td>...</td>\n",
       "      <td>...</td>\n",
       "      <td>...</td>\n",
       "      <td>...</td>\n",
       "      <td>...</td>\n",
       "      <td>...</td>\n",
       "    </tr>\n",
       "    <tr>\n",
       "      <th>5155</th>\n",
       "      <td>6.6260</td>\n",
       "      <td>51.0</td>\n",
       "      <td>5.532213</td>\n",
       "      <td>0.974790</td>\n",
       "      <td>771.0</td>\n",
       "      <td>2.159664</td>\n",
       "      <td>34.04</td>\n",
       "      <td>-118.42</td>\n",
       "      <td>4.547683</td>\n",
       "    </tr>\n",
       "    <tr>\n",
       "      <th>5156</th>\n",
       "      <td>2.1898</td>\n",
       "      <td>30.0</td>\n",
       "      <td>4.509091</td>\n",
       "      <td>0.945455</td>\n",
       "      <td>410.0</td>\n",
       "      <td>2.484848</td>\n",
       "      <td>40.18</td>\n",
       "      <td>-122.21</td>\n",
       "      <td>0.862516</td>\n",
       "    </tr>\n",
       "    <tr>\n",
       "      <th>5157</th>\n",
       "      <td>2.1667</td>\n",
       "      <td>37.0</td>\n",
       "      <td>3.272152</td>\n",
       "      <td>1.056962</td>\n",
       "      <td>2173.0</td>\n",
       "      <td>4.584388</td>\n",
       "      <td>34.02</td>\n",
       "      <td>-118.26</td>\n",
       "      <td>1.259680</td>\n",
       "    </tr>\n",
       "    <tr>\n",
       "      <th>5158</th>\n",
       "      <td>6.8869</td>\n",
       "      <td>6.0</td>\n",
       "      <td>7.382385</td>\n",
       "      <td>1.030075</td>\n",
       "      <td>2354.0</td>\n",
       "      <td>2.528464</td>\n",
       "      <td>38.51</td>\n",
       "      <td>-121.06</td>\n",
       "      <td>3.007282</td>\n",
       "    </tr>\n",
       "    <tr>\n",
       "      <th>5159</th>\n",
       "      <td>6.6321</td>\n",
       "      <td>36.0</td>\n",
       "      <td>5.734644</td>\n",
       "      <td>1.056511</td>\n",
       "      <td>1033.0</td>\n",
       "      <td>2.538084</td>\n",
       "      <td>33.89</td>\n",
       "      <td>-118.40</td>\n",
       "      <td>4.204056</td>\n",
       "    </tr>\n",
       "  </tbody>\n",
       "</table>\n",
       "<p>5160 rows × 9 columns</p>\n",
       "</div>"
      ],
      "text/plain": [
       "      MedInc  HouseAge  AveRooms  AveBedrms  Population  AveOccup  Latitude  \\\n",
       "0     1.6812      25.0  4.192201   1.022284      1392.0  3.877437     36.06   \n",
       "1     2.5313      30.0  5.039384   1.193493      1565.0  2.679795     35.14   \n",
       "2     3.4801      52.0  3.977155   1.185877      1310.0  1.360332     37.80   \n",
       "3     5.7376      17.0  6.163636   1.020202      1705.0  3.444444     34.28   \n",
       "4     3.7250      34.0  5.492991   1.028037      1063.0  2.483645     36.62   \n",
       "...      ...       ...       ...        ...         ...       ...       ...   \n",
       "5155  6.6260      51.0  5.532213   0.974790       771.0  2.159664     34.04   \n",
       "5156  2.1898      30.0  4.509091   0.945455       410.0  2.484848     40.18   \n",
       "5157  2.1667      37.0  3.272152   1.056962      2173.0  4.584388     34.02   \n",
       "5158  6.8869       6.0  7.382385   1.030075      2354.0  2.528464     38.51   \n",
       "5159  6.6321      36.0  5.734644   1.056511      1033.0  2.538084     33.89   \n",
       "\n",
       "      Longitude   predict  \n",
       "0       -119.01  0.505226  \n",
       "1       -119.46  0.727855  \n",
       "2       -122.44  4.841441  \n",
       "3       -118.72  2.630331  \n",
       "4       -121.93  2.337548  \n",
       "...         ...       ...  \n",
       "5155    -118.42  4.547683  \n",
       "5156    -122.21  0.862516  \n",
       "5157    -118.26  1.259680  \n",
       "5158    -121.06  3.007282  \n",
       "5159    -118.40  4.204056  \n",
       "\n",
       "[5160 rows x 9 columns]"
      ]
     },
     "execution_count": 19,
     "metadata": {},
     "output_type": "execute_result"
    }
   ],
   "source": [
    "feature_names = data.feature_names.copy()\n",
    "feature_names.append(\"predict\")\n",
    "\n",
    "pd.read_csv(\n",
    "    \"data/output/california_housing.csv.out\",\n",
    "    header=None,\n",
    "    names=feature_names,\n",
    ")"
   ]
  },
  {
   "cell_type": "markdown",
   "id": "7957116f-2cdd-42d4-80a6-6b0391c16095",
   "metadata": {},
   "source": [
    "## Deploy Endpoint - Serverless"
   ]
  },
  {
   "cell_type": "code",
   "execution_count": 20,
   "id": "5cbae093-30e7-4760-89b9-41e818a18196",
   "metadata": {
    "tags": []
   },
   "outputs": [
    {
     "name": "stderr",
     "output_type": "stream",
     "text": [
      "Using already existing model: california-housing\n"
     ]
    },
    {
     "name": "stdout",
     "output_type": "stream",
     "text": [
      "------!"
     ]
    }
   ],
   "source": [
    "predictor_serverless = model.deploy(\n",
    "    endpoint_name=endpoint_name_serverless,\n",
    "    serverless_inference_config=serverless_inference_config,\n",
    ")"
   ]
  },
  {
   "cell_type": "code",
   "execution_count": 21,
   "id": "a15e48ea-e427-4e8c-9369-2a8478a8cc4c",
   "metadata": {
    "tags": []
   },
   "outputs": [
    {
     "name": "stderr",
     "output_type": "stream",
     "text": [
      "Using already existing model: california-housing\n"
     ]
    },
    {
     "name": "stdout",
     "output_type": "stream",
     "text": [
      "---------!"
     ]
    }
   ],
   "source": [
    "predictor_realtime = model.deploy(\n",
    "    endpoint_name=endpoint_name_realtime,\n",
    "    instance_type=\"ml.t2.medium\",\n",
    "    initial_instance_count=1,\n",
    "    data_capture_config=data_capture_config,\n",
    ")"
   ]
  },
  {
   "cell_type": "markdown",
   "id": "1b169a5b-db4c-4b64-86ec-2306c994b9ed",
   "metadata": {},
   "source": [
    "## Predictor"
   ]
  },
  {
   "cell_type": "code",
   "execution_count": 22,
   "id": "517dce0d-a2e0-4e4b-8cf4-acaa2d2f3730",
   "metadata": {},
   "outputs": [],
   "source": [
    "predictions_realtime = predictor_realtime.predict(testX[data.feature_names])\n",
    "predictions_serverless = predictor_realtime.predict(testX[data.feature_names])\n",
    "\n",
    "df_predictions_realtime = pd.DataFrame(predictions_realtime, columns=[\"predict\"])\n",
    "df_predictions_serverless = pd.DataFrame(predictions_serverless, columns=[\"predict\"])"
   ]
  },
  {
   "cell_type": "code",
   "execution_count": 23,
   "id": "b54fdbbb-e05a-4a62-bbfa-887265ab8495",
   "metadata": {
    "tags": []
   },
   "outputs": [
    {
     "data": {
      "text/plain": [
       "((5160, 1), (5160, 1))"
      ]
     },
     "execution_count": 23,
     "metadata": {},
     "output_type": "execute_result"
    }
   ],
   "source": [
    "df_predictions_realtime.shape, df_predictions_serverless.shape"
   ]
  },
  {
   "cell_type": "markdown",
   "id": "8f15770b-7c19-44d1-9f67-8246ca207633",
   "metadata": {},
   "source": [
    "## Predictions Realtime"
   ]
  },
  {
   "cell_type": "code",
   "execution_count": 24,
   "id": "0c7debc8-23c5-4ec7-ac16-26bb9f2d6819",
   "metadata": {
    "tags": []
   },
   "outputs": [
    {
     "data": {
      "text/html": [
       "<div>\n",
       "<style scoped>\n",
       "    .dataframe tbody tr th:only-of-type {\n",
       "        vertical-align: middle;\n",
       "    }\n",
       "\n",
       "    .dataframe tbody tr th {\n",
       "        vertical-align: top;\n",
       "    }\n",
       "\n",
       "    .dataframe thead th {\n",
       "        text-align: right;\n",
       "    }\n",
       "</style>\n",
       "<table border=\"1\" class=\"dataframe\">\n",
       "  <thead>\n",
       "    <tr style=\"text-align: right;\">\n",
       "      <th></th>\n",
       "      <th>predict</th>\n",
       "    </tr>\n",
       "  </thead>\n",
       "  <tbody>\n",
       "    <tr>\n",
       "      <th>0</th>\n",
       "      <td>0.505226</td>\n",
       "    </tr>\n",
       "    <tr>\n",
       "      <th>1</th>\n",
       "      <td>0.727855</td>\n",
       "    </tr>\n",
       "    <tr>\n",
       "      <th>2</th>\n",
       "      <td>4.841441</td>\n",
       "    </tr>\n",
       "    <tr>\n",
       "      <th>3</th>\n",
       "      <td>2.630331</td>\n",
       "    </tr>\n",
       "    <tr>\n",
       "      <th>4</th>\n",
       "      <td>2.337548</td>\n",
       "    </tr>\n",
       "    <tr>\n",
       "      <th>...</th>\n",
       "      <td>...</td>\n",
       "    </tr>\n",
       "    <tr>\n",
       "      <th>5155</th>\n",
       "      <td>4.547683</td>\n",
       "    </tr>\n",
       "    <tr>\n",
       "      <th>5156</th>\n",
       "      <td>0.862516</td>\n",
       "    </tr>\n",
       "    <tr>\n",
       "      <th>5157</th>\n",
       "      <td>1.259680</td>\n",
       "    </tr>\n",
       "    <tr>\n",
       "      <th>5158</th>\n",
       "      <td>3.007282</td>\n",
       "    </tr>\n",
       "    <tr>\n",
       "      <th>5159</th>\n",
       "      <td>4.204056</td>\n",
       "    </tr>\n",
       "  </tbody>\n",
       "</table>\n",
       "<p>5160 rows × 1 columns</p>\n",
       "</div>"
      ],
      "text/plain": [
       "       predict\n",
       "0     0.505226\n",
       "1     0.727855\n",
       "2     4.841441\n",
       "3     2.630331\n",
       "4     2.337548\n",
       "...        ...\n",
       "5155  4.547683\n",
       "5156  0.862516\n",
       "5157  1.259680\n",
       "5158  3.007282\n",
       "5159  4.204056\n",
       "\n",
       "[5160 rows x 1 columns]"
      ]
     },
     "execution_count": 24,
     "metadata": {},
     "output_type": "execute_result"
    }
   ],
   "source": [
    "df_predictions_realtime"
   ]
  },
  {
   "cell_type": "markdown",
   "id": "16c94955-14c0-49f9-bb82-02d646bcdf07",
   "metadata": {},
   "source": [
    "## Predictions Serverless"
   ]
  },
  {
   "cell_type": "code",
   "execution_count": 25,
   "id": "ec93737a-c08a-4314-9468-f3962620b4f2",
   "metadata": {
    "tags": []
   },
   "outputs": [
    {
     "data": {
      "text/html": [
       "<div>\n",
       "<style scoped>\n",
       "    .dataframe tbody tr th:only-of-type {\n",
       "        vertical-align: middle;\n",
       "    }\n",
       "\n",
       "    .dataframe tbody tr th {\n",
       "        vertical-align: top;\n",
       "    }\n",
       "\n",
       "    .dataframe thead th {\n",
       "        text-align: right;\n",
       "    }\n",
       "</style>\n",
       "<table border=\"1\" class=\"dataframe\">\n",
       "  <thead>\n",
       "    <tr style=\"text-align: right;\">\n",
       "      <th></th>\n",
       "      <th>predict</th>\n",
       "    </tr>\n",
       "  </thead>\n",
       "  <tbody>\n",
       "    <tr>\n",
       "      <th>0</th>\n",
       "      <td>0.505226</td>\n",
       "    </tr>\n",
       "    <tr>\n",
       "      <th>1</th>\n",
       "      <td>0.727855</td>\n",
       "    </tr>\n",
       "    <tr>\n",
       "      <th>2</th>\n",
       "      <td>4.841441</td>\n",
       "    </tr>\n",
       "    <tr>\n",
       "      <th>3</th>\n",
       "      <td>2.630331</td>\n",
       "    </tr>\n",
       "    <tr>\n",
       "      <th>4</th>\n",
       "      <td>2.337548</td>\n",
       "    </tr>\n",
       "    <tr>\n",
       "      <th>...</th>\n",
       "      <td>...</td>\n",
       "    </tr>\n",
       "    <tr>\n",
       "      <th>5155</th>\n",
       "      <td>4.547683</td>\n",
       "    </tr>\n",
       "    <tr>\n",
       "      <th>5156</th>\n",
       "      <td>0.862516</td>\n",
       "    </tr>\n",
       "    <tr>\n",
       "      <th>5157</th>\n",
       "      <td>1.259680</td>\n",
       "    </tr>\n",
       "    <tr>\n",
       "      <th>5158</th>\n",
       "      <td>3.007282</td>\n",
       "    </tr>\n",
       "    <tr>\n",
       "      <th>5159</th>\n",
       "      <td>4.204056</td>\n",
       "    </tr>\n",
       "  </tbody>\n",
       "</table>\n",
       "<p>5160 rows × 1 columns</p>\n",
       "</div>"
      ],
      "text/plain": [
       "       predict\n",
       "0     0.505226\n",
       "1     0.727855\n",
       "2     4.841441\n",
       "3     2.630331\n",
       "4     2.337548\n",
       "...        ...\n",
       "5155  4.547683\n",
       "5156  0.862516\n",
       "5157  1.259680\n",
       "5158  3.007282\n",
       "5159  4.204056\n",
       "\n",
       "[5160 rows x 1 columns]"
      ]
     },
     "execution_count": 25,
     "metadata": {},
     "output_type": "execute_result"
    }
   ],
   "source": [
    "df_predictions_serverless"
   ]
  },
  {
   "cell_type": "markdown",
   "id": "0fc4f0da-9804-49c8-892c-b867489de80c",
   "metadata": {},
   "source": [
    "## Invoke Endpoint (application/x-npy)"
   ]
  },
  {
   "cell_type": "code",
   "execution_count": 26,
   "id": "ec12ae11-3ab7-43a8-8612-575ab71d7869",
   "metadata": {
    "tags": []
   },
   "outputs": [],
   "source": [
    "# line 59 - https://github.com/aws/sagemaker-scikit-learn-container/blob/master/src/sagemaker_sklearn_container/serving.py\n",
    "# lines 191, 48 - https://github.com/aws/sagemaker-training-toolkit/blob/master/src/sagemaker_training/encoders.py\n",
    "\n",
    "# Serialise numpy ndarray as bytes\n",
    "buffer = BytesIO()\n",
    "np.save(buffer, testX[data.feature_names].values)\n",
    "\n",
    "x_npy_response_realtime = runtime.invoke_endpoint(\n",
    "    EndpointName=predictor_realtime.endpoint_name,\n",
    "    Body=buffer.getvalue(),\n",
    "    ContentType=\"application/x-npy\",\n",
    ")\n",
    "\n",
    "x_npy_response_serverless = runtime.invoke_endpoint(\n",
    "    EndpointName=predictor_serverless.endpoint_name,\n",
    "    Body=buffer.getvalue(),\n",
    "    ContentType=\"application/x-npy\",\n",
    ")\n",
    "\n",
    "x_npy_predictions_serverless = json.loads(x_npy_response_serverless[\"Body\"].read())\n",
    "x_npy_predictions_realtime = json.loads(x_npy_response_realtime[\"Body\"].read())\n",
    "\n",
    "df_x_npy_predictions_realtime = pd.DataFrame(x_npy_predictions_realtime, columns=[\"Predict\"])\n",
    "df_x_npy_predictions_serverless = pd.DataFrame(x_npy_predictions_serverless, columns=[\"Predict\"])"
   ]
  },
  {
   "cell_type": "code",
   "execution_count": 27,
   "id": "6a7820c4-24bf-4049-b05f-9455aa9d6ddc",
   "metadata": {
    "tags": []
   },
   "outputs": [
    {
     "data": {
      "text/plain": [
       "((5160, 1), (5160, 1))"
      ]
     },
     "execution_count": 27,
     "metadata": {},
     "output_type": "execute_result"
    }
   ],
   "source": [
    "df_x_npy_predictions_serverless.shape, df_x_npy_predictions_realtime.shape"
   ]
  },
  {
   "cell_type": "markdown",
   "id": "794ccc24-0b6b-45c4-8091-ef8499417e81",
   "metadata": {},
   "source": [
    "## Invoke Endpoint (text/csv)"
   ]
  },
  {
   "cell_type": "code",
   "execution_count": 28,
   "id": "0aa88b04-8a88-40ed-ae87-d3a9d1f61ab4",
   "metadata": {
    "tags": []
   },
   "outputs": [],
   "source": [
    "csv_response_realtime = runtime.invoke_endpoint(\n",
    "    EndpointName=predictor_realtime.endpoint_name,\n",
    "    Body=testX[data.feature_names].to_csv(header=False, index=False).encode(\"utf-8\"),\n",
    "    ContentType=\"text/csv\",\n",
    ")\n",
    "\n",
    "csv_response_serverless = runtime.invoke_endpoint(\n",
    "    EndpointName=predictor_serverless.endpoint_name,\n",
    "    Body=testX[data.feature_names].to_csv(header=False, index=False).encode(\"utf-8\"),\n",
    "    ContentType=\"text/csv\",\n",
    ")\n",
    "\n",
    "csv_predictions_serverless = json.loads(csv_response_serverless[\"Body\"].read())\n",
    "csv_predictions_realtime = json.loads(csv_response_realtime[\"Body\"].read())\n",
    "\n",
    "df_csv_predictions_realtime = pd.DataFrame(csv_predictions_realtime, columns=[\"Predict\"])\n",
    "df_csv_predictions_serverless = pd.DataFrame(csv_predictions_serverless, columns=[\"Predict\"])"
   ]
  },
  {
   "cell_type": "code",
   "execution_count": 29,
   "id": "f9092b4b-652b-4661-9aaf-a5d8c503fb1b",
   "metadata": {
    "tags": []
   },
   "outputs": [
    {
     "data": {
      "text/plain": [
       "((5160, 1), (5160, 1))"
      ]
     },
     "execution_count": 29,
     "metadata": {},
     "output_type": "execute_result"
    }
   ],
   "source": [
    "df_csv_predictions_realtime.shape, df_csv_predictions_serverless.shape"
   ]
  },
  {
   "cell_type": "markdown",
   "id": "9d3d4d68-5619-4cab-8a7c-686a4b1806c1",
   "metadata": {},
   "source": [
    "## Invoke Endpoint (application/json)"
   ]
  },
  {
   "cell_type": "code",
   "execution_count": 30,
   "id": "518926a2-d840-4891-95ae-2a0474edb6f9",
   "metadata": {
    "tags": []
   },
   "outputs": [],
   "source": [
    "event = {\"data\": json.loads(testX[data.feature_names].to_json(orient=\"values\"))}\n",
    "context = None\n",
    "\n",
    "\n",
    "def lambda_handler(event, context):\n",
    "    payload = json.dumps(event[\"data\"])\n",
    "\n",
    "    response = runtime.invoke_endpoint(\n",
    "        EndpointName=predictor_realtime.endpoint_name,\n",
    "        Body=payload,\n",
    "        ContentType=\"application/json\",\n",
    "    )\n",
    "\n",
    "    return response\n",
    "\n",
    "\n",
    "json_response_realtime = lambda_handler(event, context)\n",
    "\n",
    "json_predictions_realtime = json.loads(json_response_realtime[\"Body\"].read())\n",
    "df_json_predictions_realtime = pd.DataFrame(json_predictions_realtime, columns=[\"Predict\"])"
   ]
  },
  {
   "cell_type": "code",
   "execution_count": 31,
   "id": "4b15c356-a019-4551-bc83-dd7b413c62eb",
   "metadata": {
    "tags": []
   },
   "outputs": [
    {
     "data": {
      "text/plain": [
       "(5160, 1)"
      ]
     },
     "execution_count": 31,
     "metadata": {},
     "output_type": "execute_result"
    }
   ],
   "source": [
    "df_json_predictions_realtime.shape"
   ]
  },
  {
   "cell_type": "markdown",
   "id": "112872d0-5afd-4ede-9099-a3bc74160301",
   "metadata": {},
   "source": [
    "## Capture realtime"
   ]
  },
  {
   "cell_type": "code",
   "execution_count": 32,
   "id": "03c1281a-c853-47ad-94fb-b25afff1592f",
   "metadata": {
    "tags": []
   },
   "outputs": [
    {
     "name": "stdout",
     "output_type": "stream",
     "text": [
      "Found Data Capture Files:\n",
      "['s3://datarocket-stg-sagemaker/california-housing/data_capture/california-housing-realtime/AllTraffic/2022/12/04/14/51-32-792-5c2e490c-4ccd-4f33-9520-d8807cad4eea.jsonl', 's3://datarocket-stg-sagemaker/california-housing/data_capture/california-housing-realtime/AllTraffic/2022/12/04/15/50-52-882-2346ad33-3082-44fb-b0bf-53e33fbf28ff.jsonl', 's3://datarocket-stg-sagemaker/california-housing/data_capture/california-housing-realtime/AllTraffic/2022/12/04/16/15-46-832-0a6fb23e-57b9-47eb-8450-ced1f2ad5a67.jsonl', 's3://datarocket-stg-sagemaker/california-housing/data_capture/california-housing-realtime/AllTraffic/2022/12/04/16/19-12-200-eb41e363-83a0-4684-bf7e-5dd26e7ca1f0.jsonl', 's3://datarocket-stg-sagemaker/california-housing/data_capture/california-housing-realtime/AllTraffic/2022/12/04/16/21-28-726-13eb317c-944d-4c2a-aa45-70f341032e19.jsonl', 's3://datarocket-stg-sagemaker/california-housing/data_capture/california-housing-realtime/AllTraffic/2022/12/04/16/23-15-118-c24f5f31-e29b-4f2c-a272-ca3898e5d25c.jsonl', 's3://datarocket-stg-sagemaker/california-housing/data_capture/california-housing-realtime/AllTraffic/2022/12/04/16/25-04-312-df53ca9e-c097-4215-84ad-26d5ff0f555b.jsonl', 's3://datarocket-stg-sagemaker/california-housing/data_capture/california-housing-realtime/AllTraffic/2022/12/05/22/07-32-036-b51a0f00-09ee-48ad-b9ec-fb3d98c3097e.jsonl', 's3://datarocket-stg-sagemaker/california-housing/data_capture/california-housing-realtime/AllTraffic/2022/12/05/23/11-13-270-da19c607-c4dc-43d0-9f82-b3f165d08322.jsonl', 's3://datarocket-stg-sagemaker/california-housing/data_capture/california-housing-realtime/AllTraffic/2022/12/05/23/12-21-925-dcb87ce8-3e99-44d8-bd01-a74fe58c1b9e.jsonl', 's3://datarocket-stg-sagemaker/california-housing/data_capture/california-housing-realtime/AllTraffic/2022/12/05/23/15-24-726-50b1e63d-e6be-4074-b670-9824495de880.jsonl', 's3://datarocket-stg-sagemaker/california-housing/data_capture/california-housing-realtime/AllTraffic/2022/12/05/23/16-32-471-105f7c45-00af-4ec5-98ee-321914eb7843.jsonl', 's3://datarocket-stg-sagemaker/california-housing/data_capture/california-housing-realtime/AllTraffic/2022/12/05/23/18-24-178-e0168df4-680c-4bcd-a6db-4576983b49cd.jsonl', 's3://datarocket-stg-sagemaker/california-housing/data_capture/california-housing-realtime/AllTraffic/2022/12/05/23/22-37-932-0a03a786-034d-472e-b1f5-5b450e12cf56.jsonl', 's3://datarocket-stg-sagemaker/california-housing/data_capture/california-housing-realtime/AllTraffic/2022/12/05/23/47-30-582-e568e964-e497-48b7-8574-639959345bf6.jsonl']\n"
     ]
    }
   ],
   "source": [
    "# https://sagemaker.readthedocs.io/en/stable/amazon_sagemaker_model_monitoring.html\n",
    "# https://github.com/aws/amazon-sagemaker-examples/blob/main/aws_sagemaker_studio/getting_started/xgboost_customer_churn_studio.ipynb\n",
    "# https://github.com/aws/amazon-sagemaker-examples/tree/main/sagemaker_model_monitor/model_monitor_batch_transform\n",
    "\n",
    "for _ in range(20):  # wait up to a minute to see captures in S3\n",
    "    capture_files = S3Downloader.list(f\"s3://{bucket}/{prefix}/data_capture\")\n",
    "    if capture_files:\n",
    "        break\n",
    "    time.sleep(5)\n",
    "\n",
    "print(\"Found Data Capture Files:\")\n",
    "print(capture_files)"
   ]
  },
  {
   "cell_type": "code",
   "execution_count": 33,
   "id": "16c67801-21a1-4680-b671-2110e26a6ccb",
   "metadata": {
    "tags": []
   },
   "outputs": [],
   "source": [
    "capture_file = S3Downloader.read_file(capture_files[-1])"
   ]
  },
  {
   "cell_type": "code",
   "execution_count": 34,
   "id": "6fdc9b0c-602b-4ed2-a116-8fa0c3d00af6",
   "metadata": {
    "tags": []
   },
   "outputs": [
    {
     "name": "stdout",
     "output_type": "stream",
     "text": [
      "{\n",
      "  \"captureData\": {\n",
      "    \"endpointInput\": {\n",
      "      \"observedContentType\": \"application/json\",\n",
      "      \"mode\": \"INPUT\",\n",
      "      \"data\": \"[[1.6812, 25.0, 4.1922005571, 1.0222841226, 1392.0, 3.8774373259, 36.06, -119.01], [2.5313, 30.0, 5.0393835616, 1.1934931507, 1565.0, 2.6797945205, 35.14, -119.46], [3.4801, 52.0, 3.9771547248, 1.1858774663, 1310.0, 1.3603322949, 37.8, -122.44], [5.7376, 17.0, 6.1636363636, 1.0202020202, 1705.0, 3.4444444444, 34.28, -118.72], [3.725, 34.0, 5.4929906542, 1.0280373832, 1063.0, 2.4836448598, 36.62, -121.93], [4.7147, 12.0, 5.2514827995, 0.975088968, 2400.0, 2.846975089, 34.08, -117.61], [5.0839, 36.0, 6.221719457, 1.0950226244, 670.0, 3.0316742081, 33.89, -118.02], [3.6908, 38.0, 4.9628252788, 1.0483271375, 1011.0, 3.7583643123, 33.92, -118.08], [4.8036, 4.0, 3.9246575342, 1.0359589041, 1050.0, 1.7979452055, 37.39, -122.08], [8.1132, 45.0, 6.8790560472, 1.01179941, 943.0, 2.7817109145, 34.18, -118.23], [2.5417, 30.0, 5.0860215054, 1.1720430108, 242.0, 2.602150\n"
     ]
    }
   ],
   "source": [
    "print(json.dumps(json.loads(capture_file.split(\"\\n\")[0]), indent=2)[:1000])"
   ]
  },
  {
   "cell_type": "code",
   "execution_count": null,
   "id": "824824b4-138f-4801-9cdd-cd25b53b1e7a",
   "metadata": {
    "tags": []
   },
   "outputs": [],
   "source": [
    "baseline_prefix = prefix + \"/baselining\"\n",
    "baseline_data_prefix = baseline_prefix + \"/data\"\n",
    "baseline_results_prefix = baseline_prefix + \"/results\"\n",
    "\n",
    "baseline_data_uri = \"s3://{}/{}\".format(bucket, baseline_data_prefix)\n",
    "baseline_results_uri = \"s3://{}/{}\".format(bucket, baseline_results_prefix)\n",
    "print(\"Baseline data uri: {}\".format(baseline_data_uri))\n",
    "print(\"Baseline results uri: {}\".format(baseline_results_uri))\n",
    "baseline_data_path = sagemaker.s3.S3Uploader.upload(\n",
    "    \"data/california_housing_with_header.csv\", baseline_data_uri\n",
    ")"
   ]
  },
  {
   "cell_type": "code",
   "execution_count": null,
   "id": "966be3c5-3f6e-4a8b-823e-ee42d6620ab2",
   "metadata": {
    "tags": []
   },
   "outputs": [],
   "source": [
    "my_default_monitor = DefaultModelMonitor(\n",
    "    role=sm_role,\n",
    "    instance_count=1,\n",
    "    instance_type=\"ml.m5.xlarge\",\n",
    "    volume_size_in_gb=20,\n",
    "    max_runtime_in_seconds=3600,\n",
    ")\n",
    "\n",
    "baseline_job = my_default_monitor.suggest_baseline(\n",
    "    baseline_dataset=baseline_data_path,\n",
    "    dataset_format=DatasetFormat.csv(header=True),\n",
    "    output_s3_uri=baseline_results_uri,\n",
    "    wait=True,\n",
    ")"
   ]
  },
  {
   "cell_type": "code",
   "execution_count": null,
   "id": "fa88a29b-e03d-4b57-a1c1-8f04b97e383f",
   "metadata": {
    "tags": []
   },
   "outputs": [],
   "source": [
    "print(\"Found Files:\")\n",
    "S3Downloader.list(\"s3://{}/{}\".format(bucket, baseline_results_prefix))"
   ]
  },
  {
   "cell_type": "code",
   "execution_count": null,
   "id": "97e77824-32f2-467e-b98f-fbbc5e34032e",
   "metadata": {
    "tags": []
   },
   "outputs": [],
   "source": [
    "baseline_job = my_default_monitor.latest_baselining_job\n",
    "schema_df = pd.json_normalize(baseline_job.baseline_statistics().body_dict[\"features\"])\n",
    "schema_df.head(10)"
   ]
  },
  {
   "cell_type": "code",
   "execution_count": null,
   "id": "7718a5fd-1b69-4c4b-a14d-751798682243",
   "metadata": {
    "tags": []
   },
   "outputs": [],
   "source": [
    "constraints_df = pd.json_normalize(baseline_job.suggested_constraints().body_dict[\"features\"])\n",
    "constraints_df.head(10)"
   ]
  },
  {
   "cell_type": "code",
   "execution_count": null,
   "id": "f4934ac3-82cc-4d3a-98dd-5a93c7820cba",
   "metadata": {
    "tags": []
   },
   "outputs": [],
   "source": [
    "my_default_monitor.create_monitoring_schedule(\n",
    "    monitor_schedule_name=\"my-monitoring-schedule\",\n",
    "    endpoint_input=predictor_realtime.endpoint_name,\n",
    "    statistics=my_default_monitor.baseline_statistics(),\n",
    "    constraints=my_default_monitor.suggested_constraints(),\n",
    "    schedule_cron_expression=CronExpressionGenerator.hourly(),\n",
    ")"
   ]
  },
  {
   "cell_type": "code",
   "execution_count": null,
   "id": "70fc152e-0fc3-403a-80ff-cd47a7e165c0",
   "metadata": {
    "tags": []
   },
   "outputs": [],
   "source": [
    "executions = my_default_monitor.list_executions()"
   ]
  },
  {
   "cell_type": "markdown",
   "id": "98740003-3f31-4d1f-b9fd-ee2b0622faec",
   "metadata": {},
   "source": [
    "## Delete Resources"
   ]
  },
  {
   "cell_type": "code",
   "execution_count": 10,
   "id": "cbd7897c-3c60-4a85-a013-127ad902ab7f",
   "metadata": {
    "tags": []
   },
   "outputs": [],
   "source": [
    "def empty_and_delete_model_package(sagemaker_client, mpg_name):\n",
    "    mpg = sagemaker_client.list_model_packages(\n",
    "        ModelPackageGroupName=mpg_name,\n",
    "    )\n",
    "\n",
    "    # Delete model packages if Group not empty\n",
    "    model_packages = mpg.get(\"ModelPackageSummaryList\")\n",
    "    if model_packages:\n",
    "        for mp in model_packages:\n",
    "            sagemaker_client.delete_model_package(ModelPackageName=mp[\"ModelPackageArn\"])\n",
    "            time.sleep(1)\n",
    "\n",
    "    # Delete model package group\n",
    "    sagemaker_client.delete_model_package_group(ModelPackageGroupName=mpg_name)\n",
    "\n",
    "\n",
    "# model.delete_model()\n",
    "# sm_session.delete_monitoring_schedule(\"my-monitoring-schedule\")\n",
    "# predictor_realtime.delete_endpoint(delete_endpoint_config=True)\n",
    "# predictor_serverless.delete_endpoint(delete_endpoint_config=True)\n",
    "empty_and_delete_model_package(sm_client, \"from-idea-to-prod-model-group\")"
   ]
  },
  {
   "cell_type": "code",
   "execution_count": null,
   "id": "fb80cdfc-e870-4945-bce9-6774d5678e0a",
   "metadata": {},
   "outputs": [],
   "source": []
  }
 ],
 "metadata": {
  "forced_instance_type": "ml.t3.medium",
  "forced_lcc_arn": "",
  "instance_type": "ml.m5.large",
  "kernelspec": {
   "display_name": "Python 3 (Data Science)",
   "language": "python",
   "name": "python3__SAGEMAKER_INTERNAL__arn:aws:sagemaker:us-east-1:081325390199:image/datascience-1.0"
  },
  "language_info": {
   "codemirror_mode": {
    "name": "ipython",
    "version": 3
   },
   "file_extension": ".py",
   "mimetype": "text/x-python",
   "name": "python",
   "nbconvert_exporter": "python",
   "pygments_lexer": "ipython3",
   "version": "3.7.10"
  }
 },
 "nbformat": 4,
 "nbformat_minor": 5
}
